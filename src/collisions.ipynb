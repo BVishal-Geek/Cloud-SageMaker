{
 "cells": [
  {
   "cell_type": "code",
   "execution_count": 1,
   "id": "initial_id",
   "metadata": {
    "collapsed": true,
    "ExecuteTime": {
     "end_time": "2024-04-14T01:16:05.664105Z",
     "start_time": "2024-04-14T01:16:05.659830Z"
    }
   },
   "outputs": [],
   "source": [
    "import pandas as pd\n"
   ]
  },
  {
   "cell_type": "code",
   "outputs": [],
   "source": [
    "df = pd.read_excel(r\"/Users/vishal/Downloads/crash_reporting_data.xlsx\")\n",
    "\n"
   ],
   "metadata": {
    "collapsed": false,
    "ExecuteTime": {
     "end_time": "2024-04-14T01:16:56.605859Z",
     "start_time": "2024-04-14T01:16:36.436874Z"
    }
   },
   "id": "b9d85d09e3ea9ba8",
   "execution_count": 5
  },
  {
   "cell_type": "code",
   "outputs": [
    {
     "name": "stdout",
     "output_type": "stream",
     "text": [
      "Collecting openpyxl\r\n",
      "  Downloading openpyxl-3.1.2-py2.py3-none-any.whl.metadata (2.5 kB)\r\n",
      "Collecting et-xmlfile (from openpyxl)\r\n",
      "  Downloading et_xmlfile-1.1.0-py3-none-any.whl.metadata (1.8 kB)\r\n",
      "Downloading openpyxl-3.1.2-py2.py3-none-any.whl (249 kB)\r\n",
      "\u001B[2K   \u001B[90m━━━━━━━━━━━━━━━━━━━━━━━━━━━━━━━━━━━━━━━━\u001B[0m \u001B[32m250.0/250.0 kB\u001B[0m \u001B[31m8.6 MB/s\u001B[0m eta \u001B[36m0:00:00\u001B[0m\r\n",
      "\u001B[?25hDownloading et_xmlfile-1.1.0-py3-none-any.whl (4.7 kB)\r\n",
      "Installing collected packages: et-xmlfile, openpyxl\r\n",
      "Successfully installed et-xmlfile-1.1.0 openpyxl-3.1.2\r\n"
     ]
    }
   ],
   "source": [
    "!pip install openpyxl"
   ],
   "metadata": {
    "collapsed": false,
    "ExecuteTime": {
     "end_time": "2024-04-14T01:16:28.035154Z",
     "start_time": "2024-04-14T01:16:26.401710Z"
    }
   },
   "id": "af186f598fe004ef",
   "execution_count": 4
  },
  {
   "cell_type": "code",
   "outputs": [
    {
     "data": {
      "text/plain": "Equipment Problems                0.20\nDriver Substance Abuse            0.18\nTraffic Control                   0.15\nSurface Condition                 0.12\nRoute Type                        0.10\nCross-Street Type                 0.10\nRoad Name                         0.09\nCross-Street Name                 0.09\nWeather                           0.08\nDrivers License State             0.06\nVehicle Going Dir                 0.02\nVehicle Body Type                 0.02\nVehicle Continuing Dir            0.02\nLight                             0.01\nVehicle Model                     0.00\nVehicle Make                      0.00\nVehicle Year                      0.00\nParked Vehicle                    0.00\nDriverless Vehicle                0.00\nSpeed Limit                       0.00\nLatitude                          0.00\nAgency Name                       0.00\nVehicle Movement                  0.00\nVehicle Second Impact Location    0.00\nVehicle First Impact Location     0.00\nVehicle Damage Extent             0.00\nACRS Report Type                  0.00\nDriver Distracted By              0.00\nInjury Severity                   0.00\nDriver At Fault                   0.00\nCollision Type                    0.00\nCrash Date/Time                   0.00\nLongitude                         0.00\ndtype: float64"
     },
     "execution_count": 10,
     "metadata": {},
     "output_type": "execute_result"
    }
   ],
   "source": [
    "round(df.isna().sum()/len(df),2).sort_values(ascending=False) "
   ],
   "metadata": {
    "collapsed": false,
    "ExecuteTime": {
     "end_time": "2024-04-14T01:20:00.548089Z",
     "start_time": "2024-04-14T01:20:00.448231Z"
    }
   },
   "id": "b18b046d2be9bd48",
   "execution_count": 10
  },
  {
   "cell_type": "code",
   "outputs": [
    {
     "name": "stdout",
     "output_type": "stream",
     "text": [
      "object\n",
      "object\n",
      "object\n",
      "object\n",
      "object\n",
      "object\n",
      "object\n",
      "object\n",
      "object\n",
      "object\n",
      "object\n",
      "object\n",
      "object\n",
      "object\n",
      "object\n",
      "object\n",
      "object\n",
      "object\n",
      "object\n",
      "object\n",
      "object\n",
      "object\n",
      "object\n",
      "object\n",
      "int64\n",
      "object\n",
      "object\n",
      "int64\n",
      "object\n",
      "object\n",
      "object\n",
      "float64\n",
      "float64\n"
     ]
    }
   ],
   "source": [
    "for cols in df.columns:\n",
    "    print(df[cols].dtypes)"
   ],
   "metadata": {
    "collapsed": false,
    "ExecuteTime": {
     "end_time": "2024-04-14T01:28:38.334782Z",
     "start_time": "2024-04-14T01:28:38.318097Z"
    }
   },
   "id": "8e1992d5e7fe03f5",
   "execution_count": 12
  },
  {
   "cell_type": "code",
   "outputs": [],
   "source": [],
   "metadata": {
    "collapsed": false
   },
   "id": "c2e523b52d42d7ef"
  }
 ],
 "metadata": {
  "kernelspec": {
   "display_name": "Python 3",
   "language": "python",
   "name": "python3"
  },
  "language_info": {
   "codemirror_mode": {
    "name": "ipython",
    "version": 2
   },
   "file_extension": ".py",
   "mimetype": "text/x-python",
   "name": "python",
   "nbconvert_exporter": "python",
   "pygments_lexer": "ipython2",
   "version": "2.7.6"
  }
 },
 "nbformat": 4,
 "nbformat_minor": 5
}
